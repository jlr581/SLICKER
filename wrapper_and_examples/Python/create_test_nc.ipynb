{
 "cells": [
  {
   "cell_type": "code",
   "execution_count": null,
   "metadata": {
    "collapsed": true
   },
   "outputs": [],
   "source": [
    "import sys\n",
    "import os\n",
    "import numpy as np\n",
    "import pandas as pd\n",
    "from netCDF4 import Dataset\n"
   ]
  },
  {
   "cell_type": "code",
   "execution_count": null,
   "outputs": [],
   "source": [
    "\n",
    "prefix='test5'\n",
    "timebase=np.genfromtxt(os.path.join(test_files_path,prefix+'_input_timebase.txt'))\n",
    "target=np.genfromtxt(os.path.join(test_files_path,prefix+'_input_target.txt'))\n",
    "proxy1=np.genfromtxt(os.path.join(test_files_path,prefix+'_input_proxy1.txt'))\n",
    "proxy2=np.genfromtxt(os.path.join(test_files_path,prefix+'_input_proxy2.txt'))\n",
    "test_files_path='../examples'\n",
    "inputsname=os.path.join(test_files_path,'test5_inputs.nc')\n",
    "inputs=Dataset(inputsname,'w')\n",
    "ntimes=100\n",
    "\n",
    "time = inputs.createDimension(\"time\", ntimes)\n",
    "\n",
    "timevar = inputs.createVariable('timebase','float64',('time'))\n",
    "targetvar=inputs.createVariable(\"target\",'float64',(\"time\"))\n",
    "proxy1var=inputs.createVariable(\"proxy1\",'float64',(\"time\"),fill_value=np.NaN)\n",
    "proxy2var=inputs.createVariable(\"proxy2\",'float64',(\"time\"),fill_value=np.NaN)\n",
    "\n",
    "timevar[:]=timebase\n",
    "targetvar[:]=target[:,1]\n",
    "\n",
    "print(proxy1var)\n",
    "for p in proxy1:\n",
    "    proxy1var[int(p[0])-1]=p[1]\n",
    "for p in proxy2:\n",
    "    proxy2var[int(p[0])-1]=p[1]\n",
    "inputs.close()"
   ],
   "metadata": {
    "collapsed": false
   }
  }
 ],
 "metadata": {
  "kernelspec": {
   "display_name": "Python 3",
   "language": "python",
   "name": "python3"
  },
  "language_info": {
   "codemirror_mode": {
    "name": "ipython",
    "version": 2
   },
   "file_extension": ".py",
   "mimetype": "text/x-python",
   "name": "python",
   "nbconvert_exporter": "python",
   "pygments_lexer": "ipython2",
   "version": "2.7.6"
  }
 },
 "nbformat": 4,
 "nbformat_minor": 0
}
